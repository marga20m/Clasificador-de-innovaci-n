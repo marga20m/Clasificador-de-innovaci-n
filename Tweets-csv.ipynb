{
 "cells": [
  {
   "cell_type": "markdown",
   "metadata": {},
   "source": [
    "#### Obtener la id de un usuario, y demás información de su cuenta:"
   ]
  },
  {
   "cell_type": "code",
   "execution_count": 1,
   "metadata": {},
   "outputs": [],
   "source": [
    "#Al subirlo borrar credenciales\n",
    "consumer_key = 'op0OAH0QMQXq0Y6XlkJTnoElI'\n",
    "consumer_secret = 'ooEWMXTNE3iW5haSblRDgyhtd9BaRiFEUj3LwkOcPfSlcoMIhS'\n",
    "access_token = '1482691214457679875-o6QQ8CCC1JyrioZD9AYuuotkKLwUlO'\n",
    "access_token_secret = 'TMfE7N6pVzFWg0GZU3neJQDcpoZTKsVEMT3cHCHH3YVTb'\n",
    "bearer_token = 'AAAAAAAAAAAAAAAAAAAAAMS3YAEAAAAAuB87A6k3FtJOuZ3VvHjb2PejM0o%3DSxkAFxHNTYniGQ15oLKkxkVCECshZd7NTjbRk9DIUsx686NSgO'"
   ]
  },
  {
   "cell_type": "code",
   "execution_count": 2,
   "metadata": {},
   "outputs": [
    {
     "data": {
      "text/plain": [
       "{'data': {'id': '2244994945', 'name': 'Twitter Dev', 'username': 'TwitterDev'}}"
      ]
     },
     "execution_count": 2,
     "metadata": {},
     "output_type": "execute_result"
    }
   ],
   "source": [
    "import requests\n",
    "a = requests.get(\"https://api.twitter.com/2/users/by/username/TwitterDev\",headers= {'Authorization': \"Bearer \"+bearer_token})\n",
    "a.json()"
   ]
  },
  {
   "cell_type": "code",
   "execution_count": 3,
   "metadata": {},
   "outputs": [],
   "source": [
    "def get_data(url):\n",
    "    headers = {'Authorization': \"Bearer \" + bearer_token }\n",
    "    response = requests.get(url, headers=headers)\n",
    "    response_data = response.json()\n",
    "    return response_data"
   ]
  },
  {
   "cell_type": "code",
   "execution_count": 4,
   "metadata": {},
   "outputs": [],
   "source": [
    "cuentas = ['JomaSport', 'Panter_Calzado', 'Callaghan_Shoes', 'pikolinos', 'CalzadoPitillos','MAGRITshoes',\n",
    "           'CalzadosRobusta','DianCalzado','FalSeguridad','pmcalzado','AlpeWomanShoes','DrCutillas',\n",
    "           'MartinelliShoes','snipe_shoes','GARVALIN', 'NaturalWorldEco','DAngelaShoes','LuisGonzaloShoe',\n",
    "          'CalzadosSegarra', 'calzadomiralles']\n"
   ]
  },
  {
   "cell_type": "code",
   "execution_count": 743,
   "metadata": {},
   "outputs": [
    {
     "data": {
      "text/plain": [
       "{'data': {'username': 'MartinelliShoes',\n",
       "  'created_at': '2009-08-20T08:59:19.000Z',\n",
       "  'id': '67268648',\n",
       "  'name': 'Martinelli'}}"
      ]
     },
     "execution_count": 743,
     "metadata": {},
     "output_type": "execute_result"
    }
   ],
   "source": [
    "get_data(\"https://api.twitter.com/2/users/by/username/MartinelliShoes?expansions=pinned_tweet_id&user.fields=created_at&tweet.fields=created_at\")"
   ]
  },
  {
   "cell_type": "markdown",
   "metadata": {},
   "source": [
    "#### Obtener los tweets"
   ]
  },
  {
   "cell_type": "code",
   "execution_count": 744,
   "metadata": {},
   "outputs": [],
   "source": [
    "import tweepy\n",
    "client = tweepy.Client(bearer_token=bearer_token)\n",
    "tweets = client.get_users_tweets(id= '67268648', max_results= 15)"
   ]
  },
  {
   "cell_type": "code",
   "execution_count": 745,
   "metadata": {},
   "outputs": [],
   "source": [
    "id = []\n",
    "text = []\n",
    "innov = []\n",
    "for tweet in tweets.data:\n",
    "    id.append(tweet.id)\n",
    "    text.append(tweet.text)\n",
    "    innov.append('')\n",
    "\n",
    "import pandas as pd\n",
    "dict = {'id': id, 'text': text, 'innov':innov} \n",
    "df = pd.DataFrame(dict) \n",
    "#df.to_csv('tweets.csv')"
   ]
  },
  {
   "cell_type": "markdown",
   "metadata": {},
   "source": [
    "#### Leer y preprocesar datos"
   ]
  },
  {
   "cell_type": "code",
   "execution_count": 8,
   "metadata": {},
   "outputs": [],
   "source": [
    "import pandas as pd\n",
    "def read_data(doc):\n",
    "    dataset = pd.read_csv(doc,sep=',')\n",
    "    texts = list(dataset['text'])\n",
    "    return texts"
   ]
  },
  {
   "cell_type": "code",
   "execution_count": 9,
   "metadata": {},
   "outputs": [],
   "source": [
    "texts = read_data('tw')"
   ]
  },
  {
   "cell_type": "code",
   "execution_count": 10,
   "metadata": {},
   "outputs": [],
   "source": [
    "#import re\n",
    "#import string\n",
    "#import emoji\n",
    "#from nltk.tokenize import word_tokenize\n",
    "#from nltk.corpus import stopwords\n",
    "#def preprocesamiento(p):\n",
    "#    frases = ''\n",
    "#    for f in p:\n",
    "#        frases += f\n",
    "#    frases = frases.lower()\n",
    "#    #p = [i.lower() for i in p] #Pasamos todo a minúsculas\n",
    "#    frases = re.sub(r\"http\\S+|www\\S+|https\\S+\",'',frases)\n",
    "#    #p = [re.sub(r\"http\\S+|www\\S+|https\\S+\",'',i) for i in p] #Eliminamos urls\n",
    "#    frases = re.sub(r'\\@\\w+|\\#','',frases)\n",
    "#    #p = [re.sub(r'\\@\\w+|\\#','',i) for i in p] #Eliminamos menciones y hastag\n",
    "#    frases = frases.translate(str.maketrans('','',string.punctuation))\n",
    "#    #p = [i.translate(str.maketrans('','',string.punctuation)) for i in p] #Eliminamos signos de puntuación\n",
    "#    frases = emoji.get_emoji_regexp().sub(r'', frases)\n",
    "#    #p = [emoji.get_emoji_regexp().sub(r'', i) for i in p] #Omitimos emojis\n",
    "#    tokens = word_tokenize(frases)\n",
    "#    #p_tokens = [word_tokenize(i) for i in p] #Tokenizamos\n",
    "#    words = []\n",
    "#    for n,t in enumerate(tokens):\n",
    "#        if not t in stopwords.words('spanish'):\n",
    "#            words.append(t)\n",
    "#    wd = []\n",
    "#    from nltk.stem import SnowballStemmer\n",
    "#    for w in words:\n",
    "#        spanish_stemmer = SnowballStemmer('spanish')\n",
    "#        wd.append(spanish_stemmer.stem(w))\n",
    "#    return(wd)"
   ]
  },
  {
   "cell_type": "code",
   "execution_count": 11,
   "metadata": {},
   "outputs": [],
   "source": [
    "#def preprocesamiento2(p):\n",
    "#    text = []\n",
    "#    innov = []\n",
    "#    for frases in p:\n",
    "#        frases = frases.lower()\n",
    "#        #p = [i.lower() for i in p] #Pasamos todo a minúsculas\n",
    "#        frases = re.sub(r\"http\\S+|www\\S+|https\\S+\",'',frases)\n",
    "#        #p = [re.sub(r\"http\\S+|www\\S+|https\\S+\",'',i) for i in p] #Eliminamos urls\n",
    "#        frases = re.sub(r'\\@\\w+|\\#','',frases)\n",
    "#        #p = [re.sub(r'\\@\\w+|\\#','',i) for i in p] #Eliminamos menciones y hastag\n",
    "#        frases = frases.translate(str.maketrans('','',string.punctuation))\n",
    "#        #p = [i.translate(str.maketrans('','',string.punctuation)) for i in p] #Eliminamos signos de puntuación\n",
    "#        frases = emoji.get_emoji_regexp().sub(r'', frases)\n",
    "#        #p = [emoji.get_emoji_regexp().sub(r'', i) for i in p] #Omitimos emojis\n",
    "#        tokens = word_tokenize(frases)\n",
    "#        #p_tokens = [word_tokenize(i) for i in p] #Tokenizamos\n",
    "#        words = []\n",
    "#        for n,t in enumerate(tokens):\n",
    "#            words.append([])\n",
    "#            for w in t:\n",
    "#                if not w in stopwords.words('spanish'):\n",
    "#                    words[n].append(w)\n",
    "#        text.append(frases)\n",
    "#    import pandas as pd\n",
    "#    dict = {'text': text} \n",
    "#    df = pd.DataFrame(dict) \n",
    "#    df.to_csv('tw')              "
   ]
  },
  {
   "cell_type": "code",
   "execution_count": 12,
   "metadata": {},
   "outputs": [],
   "source": [
    "import csv\n",
    "import pandas as pd\n",
    "import numpy as np"
   ]
  },
  {
   "cell_type": "code",
   "execution_count": 13,
   "metadata": {},
   "outputs": [],
   "source": [
    "def normalize(s):\n",
    "    replacements = (\n",
    "        (\"á\", \"a\"),\n",
    "        (\"é\", \"e\"),\n",
    "        (\"í\", \"i\"),\n",
    "        (\"ó\", \"o\"),\n",
    "        (\"ú\", \"u\"),\n",
    "    )\n",
    "    for a, b in replacements:\n",
    "        s = s.replace(a, b).replace(a.upper(), b.upper())\n",
    "    return s"
   ]
  },
  {
   "cell_type": "code",
   "execution_count": 671,
   "metadata": {},
   "outputs": [],
   "source": [
    "import string\n",
    "import re\n",
    "import emoji\n",
    "from nltk.corpus import stopwords\n",
    "punctuation = set(string.punctuation) | {'¿','¡'}\n",
    "def tokenize(sentence):\n",
    "    tokens = []\n",
    "    sentence = sentence.lower()\n",
    "    sentence = re.sub(r\"http\\S+|www\\S+|https\\S+\",'',sentence)\n",
    "    sentence = re.sub(r'\\@\\w+|\\#','',sentence)\n",
    "    sentence = emoji.get_emoji_regexp().sub(r'', sentence)\n",
    "    sentence = re.sub(r'nuevas','nueva',sentence)\n",
    "    sentence = re.sub(r'nuevos','nueva',sentence)\n",
    "    sentence = re.sub(r'[^a-zA-Zñ\\s]', '', normalize(sentence)) #para tener en cuenta números añadir 0-9\n",
    "    for token in sentence.split():\n",
    "        new_token = []\n",
    "        for character in token:\n",
    "            if character not in punctuation:\n",
    "                new_token.append(character)\n",
    "        #if new_token and token not in stopwords.words('spanish'):\n",
    "        if new_token and token not in [normalize(i) for i in stopwords.words('spanish')]:\n",
    "            tokens.append(\"\".join(new_token))\n",
    "    return tokens\n",
    "def tokenize2(texto):\n",
    "    l = []\n",
    "    for j in range(len(texto)):\n",
    "        s = ''\n",
    "        for i in tokenize(texto[j]):\n",
    "            s = s+' '+i\n",
    "        l.append(s)\n",
    "    return l"
   ]
  },
  {
   "cell_type": "code",
   "execution_count": 597,
   "metadata": {},
   "outputs": [],
   "source": [
    "# Ejemplo procesamiento"
   ]
  },
  {
   "cell_type": "code",
   "execution_count": 598,
   "metadata": {},
   "outputs": [
    {
     "data": {
      "text/plain": [
       "'¡¡¡NUEVA COLECCIÓN!!! 🎈\\nSal a la calle, nuevas aventuras te están esperando... descubre, investiga, explora 🚀\\n➡️ https://t.co/590L9joLsC https://t.co/kMDKVgn3TS'"
      ]
     },
     "execution_count": 598,
     "metadata": {},
     "output_type": "execute_result"
    }
   ],
   "source": [
    "texts[729]"
   ]
  },
  {
   "cell_type": "code",
   "execution_count": 599,
   "metadata": {},
   "outputs": [
    {
     "data": {
      "text/plain": [
       "[' nueva coleccion sal calle nueva aventuras esperando descubre investiga explora']"
      ]
     },
     "execution_count": 599,
     "metadata": {},
     "output_type": "execute_result"
    }
   ],
   "source": [
    "tokenize2([texts[729]])"
   ]
  },
  {
   "cell_type": "markdown",
   "metadata": {},
   "source": [
    "###### Confusion matrix"
   ]
  },
  {
   "cell_type": "code",
   "execution_count": 600,
   "metadata": {},
   "outputs": [],
   "source": [
    "from sklearn.metrics import confusion_matrix\n",
    "import matplotlib.pyplot as plt\n",
    "import seaborn as sns\n",
    "from sklearn.metrics import classification_report\n",
    "def mostrar_resultados(y_test, pred_y):\n",
    "    conf_matrix = confusion_matrix(y_test, pred_y)\n",
    "    plt.figure(figsize=(8, 8))\n",
    "    sns.heatmap(conf_matrix, annot=True,fmt=\"d\");\n",
    "    plt.title(\"Matriz de confusión\")\n",
    "    plt.ylabel('Clase real')\n",
    "    plt.xlabel('Clase predicha')\n",
    "    plt.show()\n",
    "    print (classification_report(y_test, pred_y))"
   ]
  },
  {
   "cell_type": "markdown",
   "metadata": {},
   "source": [
    "   # DATOS  NO BALANCEADOS"
   ]
  },
  {
   "cell_type": "code",
   "execution_count": 601,
   "metadata": {},
   "outputs": [
    {
     "data": {
      "text/html": [
       "<div>\n",
       "<style scoped>\n",
       "    .dataframe tbody tr th:only-of-type {\n",
       "        vertical-align: middle;\n",
       "    }\n",
       "\n",
       "    .dataframe tbody tr th {\n",
       "        vertical-align: top;\n",
       "    }\n",
       "\n",
       "    .dataframe thead th {\n",
       "        text-align: right;\n",
       "    }\n",
       "</style>\n",
       "<table border=\"1\" class=\"dataframe\">\n",
       "  <thead>\n",
       "    <tr style=\"text-align: right;\">\n",
       "      <th></th>\n",
       "      <th>Unnamed: 0</th>\n",
       "      <th>id</th>\n",
       "      <th>text</th>\n",
       "      <th>innov</th>\n",
       "      <th>cuenta</th>\n",
       "    </tr>\n",
       "  </thead>\n",
       "  <tbody>\n",
       "    <tr>\n",
       "      <th>0</th>\n",
       "      <td>1</td>\n",
       "      <td>1493183145214152711</td>\n",
       "      <td>¿Y si por #SanValentín le envías esta imagen a...</td>\n",
       "      <td>0</td>\n",
       "      <td>JomaSport</td>\n",
       "    </tr>\n",
       "    <tr>\n",
       "      <th>1</th>\n",
       "      <td>2</td>\n",
       "      <td>1493133271659651072</td>\n",
       "      <td>RT @bbmarathon: Seguimos con buenas noticias 🤩...</td>\n",
       "      <td>0</td>\n",
       "      <td>JomaSport</td>\n",
       "    </tr>\n",
       "    <tr>\n",
       "      <th>2</th>\n",
       "      <td>3</td>\n",
       "      <td>1491761617998127110</td>\n",
       "      <td>😍 #JomaTeam \\n#SoloporDeporte https://t.co/8Aq...</td>\n",
       "      <td>0</td>\n",
       "      <td>JomaSport</td>\n",
       "    </tr>\n",
       "    <tr>\n",
       "      <th>3</th>\n",
       "      <td>4</td>\n",
       "      <td>1491687933665026049</td>\n",
       "      <td>@MXiaoPodium @rfetm_tenismesa @galiadvorak Fue...</td>\n",
       "      <td>0</td>\n",
       "      <td>JomaSport</td>\n",
       "    </tr>\n",
       "    <tr>\n",
       "      <th>4</th>\n",
       "      <td>5</td>\n",
       "      <td>1491671037238554625</td>\n",
       "      <td>PODIO!!!!\\n\\n#JomaTeam #ElCorazónDeEspaña http...</td>\n",
       "      <td>0</td>\n",
       "      <td>JomaSport</td>\n",
       "    </tr>\n",
       "    <tr>\n",
       "      <th>...</th>\n",
       "      <td>...</td>\n",
       "      <td>...</td>\n",
       "      <td>...</td>\n",
       "      <td>...</td>\n",
       "      <td>...</td>\n",
       "    </tr>\n",
       "    <tr>\n",
       "      <th>995</th>\n",
       "      <td>996</td>\n",
       "      <td>1456676472387735553</td>\n",
       "      <td>Zapatillas súper bonitas de @doctorcutillas de...</td>\n",
       "      <td>0</td>\n",
       "      <td>calzadomiralles</td>\n",
       "    </tr>\n",
       "    <tr>\n",
       "      <th>996</th>\n",
       "      <td>997</td>\n",
       "      <td>1456314237383581705</td>\n",
       "      <td>All you need is love 🎤 ❤\\n\\n¿Cuál es para ti l...</td>\n",
       "      <td>0</td>\n",
       "      <td>calzadomiralles</td>\n",
       "    </tr>\n",
       "    <tr>\n",
       "      <th>997</th>\n",
       "      <td>998</td>\n",
       "      <td>1456208540687818755</td>\n",
       "      <td>¿Zapatos para pies con juanetes, dedos de mart...</td>\n",
       "      <td>0</td>\n",
       "      <td>calzadomiralles</td>\n",
       "    </tr>\n",
       "    <tr>\n",
       "      <th>998</th>\n",
       "      <td>999</td>\n",
       "      <td>1455951833722130435</td>\n",
       "      <td>Te vas a poner las #botas\\n\\n#calzadosmiralles...</td>\n",
       "      <td>0</td>\n",
       "      <td>calzadomiralles</td>\n",
       "    </tr>\n",
       "    <tr>\n",
       "      <th>999</th>\n",
       "      <td>1000</td>\n",
       "      <td>1455846101945405443</td>\n",
       "      <td>¡Buenos días por la mañana!\\n\\nHoy os comparti...</td>\n",
       "      <td>0</td>\n",
       "      <td>calzadomiralles</td>\n",
       "    </tr>\n",
       "  </tbody>\n",
       "</table>\n",
       "<p>1000 rows × 5 columns</p>\n",
       "</div>"
      ],
      "text/plain": [
       "     Unnamed: 0                   id  \\\n",
       "0             1  1493183145214152711   \n",
       "1             2  1493133271659651072   \n",
       "2             3  1491761617998127110   \n",
       "3             4  1491687933665026049   \n",
       "4             5  1491671037238554625   \n",
       "..          ...                  ...   \n",
       "995         996  1456676472387735553   \n",
       "996         997  1456314237383581705   \n",
       "997         998  1456208540687818755   \n",
       "998         999  1455951833722130435   \n",
       "999        1000  1455846101945405443   \n",
       "\n",
       "                                                  text  innov           cuenta  \n",
       "0    ¿Y si por #SanValentín le envías esta imagen a...      0        JomaSport  \n",
       "1    RT @bbmarathon: Seguimos con buenas noticias 🤩...      0        JomaSport  \n",
       "2    😍 #JomaTeam \\n#SoloporDeporte https://t.co/8Aq...      0        JomaSport  \n",
       "3    @MXiaoPodium @rfetm_tenismesa @galiadvorak Fue...      0        JomaSport  \n",
       "4    PODIO!!!!\\n\\n#JomaTeam #ElCorazónDeEspaña http...      0        JomaSport  \n",
       "..                                                 ...    ...              ...  \n",
       "995  Zapatillas súper bonitas de @doctorcutillas de...      0  calzadomiralles  \n",
       "996  All you need is love 🎤 ❤\\n\\n¿Cuál es para ti l...      0  calzadomiralles  \n",
       "997  ¿Zapatos para pies con juanetes, dedos de mart...      0  calzadomiralles  \n",
       "998  Te vas a poner las #botas\\n\\n#calzadosmiralles...      0  calzadomiralles  \n",
       "999  ¡Buenos días por la mañana!\\n\\nHoy os comparti...      0  calzadomiralles  \n",
       "\n",
       "[1000 rows x 5 columns]"
      ]
     },
     "execution_count": 601,
     "metadata": {},
     "output_type": "execute_result"
    }
   ],
   "source": [
    "x =pd.read_csv('tw')\n",
    "x"
   ]
  },
  {
   "cell_type": "code",
   "execution_count": 602,
   "metadata": {},
   "outputs": [
    {
     "data": {
      "text/plain": [
       "0                   [sanvalentin, envias, imagen, crush]\n",
       "1      [rt, seguimos, buenas, noticias, bilbao, bizka...\n",
       "2                             [jomateam, solopordeporte]\n",
       "3      [placer, tener, dos, jugadoras, olimpicas, ins...\n",
       "4                   [podio, jomateam, elcorazondeespaña]\n",
       "                             ...                        \n",
       "995    [zapatillas, super, bonitas, calzadosmiralles,...\n",
       "996    [all, you, need, is, love, cancion, popular, m...\n",
       "997    [zapatos, pies, juanetes, dedos, martillo, anc...\n",
       "998    [vas, poner, botas, calzadosmiralles, zapateri...\n",
       "999    [buenos, dias, mañana, hoy, compartimos, zapat...\n",
       "Name: text, Length: 1000, dtype: object"
      ]
     },
     "execution_count": 602,
     "metadata": {},
     "output_type": "execute_result"
    }
   ],
   "source": [
    "x[\"text\"].apply(tokenize)"
   ]
  },
  {
   "cell_type": "markdown",
   "metadata": {},
   "source": [
    "### Proporción innovación y no innovación"
   ]
  },
  {
   "cell_type": "code",
   "execution_count": 603,
   "metadata": {},
   "outputs": [
    {
     "data": {
      "text/plain": [
       "90"
      ]
     },
     "execution_count": 603,
     "metadata": {},
     "output_type": "execute_result"
    }
   ],
   "source": [
    "(sum(x['innov'] == 1))"
   ]
  },
  {
   "cell_type": "code",
   "execution_count": 604,
   "metadata": {},
   "outputs": [
    {
     "data": {
      "text/plain": [
       "910"
      ]
     },
     "execution_count": 604,
     "metadata": {},
     "output_type": "execute_result"
    }
   ],
   "source": [
    "sum(x['innov'] == 0)"
   ]
  },
  {
   "cell_type": "code",
   "execution_count": 605,
   "metadata": {},
   "outputs": [
    {
     "data": {
      "image/png": "[encoded data removed]",
      "text/plain": [
       "<Figure size 432x288 with 1 Axes>"
      ]
     },
     "metadata": {},
     "output_type": "display_data"
    }
   ],
   "source": [
    "import matplotlib.pyplot as plt\n",
    "tweets = [90,910]\n",
    "nombres = [\"Innovación\",\"No Innovación\"]\n",
    "colores = ['#00FFFF','#4169E1']\n",
    "plt.pie(tweets, labels=nombres, autopct=\"%0.1f %%\", colors=colores)\n",
    "plt.axis(\"equal\")\n",
    "plt.title('Porcentaje de tweets con innovación')\n",
    "plt.show()"
   ]
  },
  {
   "cell_type": "code",
   "execution_count": 606,
   "metadata": {},
   "outputs": [],
   "source": [
    "#colores\n",
    "#import matplotlib\n",
    "#for cname, hex in matplotlib.colors.cnames.items():\n",
    "#    print(cname,hex)"
   ]
  },
  {
   "cell_type": "markdown",
   "metadata": {},
   "source": [
    "### vector de características y particiones (train/test)"
   ]
  },
  {
   "cell_type": "code",
   "execution_count": 607,
   "metadata": {},
   "outputs": [],
   "source": [
    "#Ejemplo vector características"
   ]
  },
  {
   "cell_type": "code",
   "execution_count": 608,
   "metadata": {},
   "outputs": [],
   "source": [
    "fr = []\n",
    "fr.append('Evita accidentes en tu trabajo con tu nuevo calzado')\n",
    "fr.append(' Nueva colección disponible en tu zapatería')\n",
    "fr.append(' Te presentamos el nuevo modelo. Cómodo y elegante.')"
   ]
  },
  {
   "cell_type": "code",
   "execution_count": 609,
   "metadata": {},
   "outputs": [
    {
     "data": {
      "text/plain": [
       "[' evita accidentes trabajo nuevo calzado',\n",
       " ' nueva coleccion disponible zapateria',\n",
       " ' presentamos nuevo modelo comodo elegante']"
      ]
     },
     "execution_count": 609,
     "metadata": {},
     "output_type": "execute_result"
    }
   ],
   "source": [
    "f = tokenize2(fr)\n",
    "f"
   ]
  },
  {
   "cell_type": "code",
   "execution_count": 610,
   "metadata": {},
   "outputs": [
    {
     "data": {
      "text/plain": [
       "array(['accidentes', 'calzado', 'coleccion', 'comodo', 'disponible',\n",
       "       'elegante', 'evita', 'modelo', 'nueva', 'nuevo', 'presentamos',\n",
       "       'trabajo', 'zapateria'], dtype=object)"
      ]
     },
     "execution_count": 610,
     "metadata": {},
     "output_type": "execute_result"
    }
   ],
   "source": [
    "from sklearn.feature_extraction.text import CountVectorizer\n",
    "vectorizer = CountVectorizer()\n",
    "X = vectorizer.fit_transform(f)\n",
    "voc = vectorizer.get_feature_names_out()\n",
    "X.toarray()\n",
    "voc"
   ]
  },
  {
   "cell_type": "code",
   "execution_count": 611,
   "metadata": {},
   "outputs": [],
   "source": [
    "df = pd.DataFrame(X.toarray())\n",
    "df = df.set_axis([voc], axis=1)\n",
    "df.to_csv('myfile.csv')"
   ]
  },
  {
   "cell_type": "code",
   "execution_count": 612,
   "metadata": {},
   "outputs": [
    {
     "name": "stdout",
     "output_type": "stream",
     "text": [
      "Training examples: 750, testing examples 250\n"
     ]
    }
   ],
   "source": [
    "from sklearn.model_selection import train_test_split\n",
    "train_text, test_text, train_labels, test_labels = train_test_split(tokenize2(x[\"text\"]), x[\"innov\"], stratify=x[\"innov\"])\n",
    "print(f\"Training examples: {len(train_text)}, testing examples {len(test_text)}\")"
   ]
  },
  {
   "cell_type": "code",
   "execution_count": 613,
   "metadata": {},
   "outputs": [],
   "source": [
    "from sklearn.feature_extraction.text import CountVectorizer\n",
    "def vec_caract(train_text,test_text):\n",
    "    real_vectorizer = CountVectorizer()\n",
    "    train_X = real_vectorizer.fit_transform(train_text)\n",
    "    test_X = real_vectorizer.transform(test_text)\n",
    "    voc = real_vectorizer.get_feature_names_out()\n",
    "    return(train_X,test_X,voc)"
   ]
  },
  {
   "cell_type": "code",
   "execution_count": 614,
   "metadata": {},
   "outputs": [],
   "source": [
    "matriz = train_X.toarray()"
   ]
  },
  {
   "cell_type": "code",
   "execution_count": 615,
   "metadata": {},
   "outputs": [
    {
     "data": {
      "text/plain": [
       "1848"
      ]
     },
     "execution_count": 615,
     "metadata": {},
     "output_type": "execute_result"
    }
   ],
   "source": [
    "#Cantidad de palabras que solo aparecen una vez\n",
    "sum(np.einsum('ij->j', matriz) ==1)"
   ]
  },
  {
   "cell_type": "code",
   "execution_count": 616,
   "metadata": {},
   "outputs": [],
   "source": [
    "import numpy as np\n",
    "def eliminar(train_X,voc):\n",
    "    elim = []\n",
    "    for n,v in enumerate(np.einsum('ij->j', train_X.toarray()) ==1):\n",
    "        if v == True:\n",
    "            elim.append(n)\n",
    "\n",
    "    for n,v in enumerate(voc):\n",
    "        if len(v) <=2:\n",
    "            elim.append(n)\n",
    "\n",
    "    elim = np.unique(elim)        \n",
    "    v = np.delete(voc,elim)\n",
    "    return(v,elim)"
   ]
  },
  {
   "cell_type": "code",
   "execution_count": 617,
   "metadata": {},
   "outputs": [],
   "source": [
    "train_X,test_X,voc = vec_caract(train_text,test_text)\n",
    "v, elim = eliminar(train_X,voc)"
   ]
  },
  {
   "cell_type": "code",
   "execution_count": 618,
   "metadata": {},
   "outputs": [],
   "source": [
    "train = np.delete(train_X.toarray(), elim, axis=1)"
   ]
  },
  {
   "cell_type": "code",
   "execution_count": 619,
   "metadata": {},
   "outputs": [],
   "source": [
    "test = np.delete(test_X.toarray(), elim, axis=1)"
   ]
  },
  {
   "cell_type": "code",
   "execution_count": 620,
   "metadata": {},
   "outputs": [],
   "source": [
    "#Obtener en las frases que aparece una palabra\n",
    "#vectorizer = CountVectorizer()\n",
    "#X = vectorizer.fit_transform(frases)\n",
    "#voc = vectorizer.get_feature_names_out()\n",
    "#for i in range(len(frases)):\n",
    "#    print(X.toarray()[i][0])"
   ]
  },
  {
   "cell_type": "markdown",
   "metadata": {},
   "source": [
    "# medir algoritmos"
   ]
  },
  {
   "cell_type": "code",
   "execution_count": 621,
   "metadata": {},
   "outputs": [],
   "source": [
    "from sklearn.model_selection import train_test_split\n",
    "def split(n):\n",
    "    train_text, test_text, train_labels, test_labels = train_test_split(tokenize2(x[\"text\"]), x[\"innov\"], train_size = n, stratify=x[\"innov\"])\n",
    "    return(train_text, test_text, train_labels, test_labels)"
   ]
  },
  {
   "cell_type": "markdown",
   "metadata": {},
   "source": [
    "import time\n",
    "import matplotlib.pyplot as plt\n",
    "mnbb = MultinomialNB()\n",
    "sizes = [2,100,200,300,400,500,600,700,998]\n",
    "times = []\n",
    "for n in sizes:\n",
    "    train_text, test_text, train_labels,test_labels = split(n)\n",
    "    train_X,test_X,voc = vec_caract(train_text,test_text)\n",
    "    start = time.perf_counter()\n",
    "    mnb.fit(train_X, train_labels)\n",
    "    end = time.perf_counter()\n",
    "    times.append(end - start)\n",
    "plt.plot(sizes,times)\n",
    "plt.xlabel('Tamaño conjunto entrenanmiento')\n",
    "plt.ylabel('Tiempo')\n",
    "plt.title('Coste algorítmico Naive Bayes')\n",
    "plt.show()"
   ]
  },
  {
   "cell_type": "markdown",
   "metadata": {},
   "source": [
    "## Modelos"
   ]
  },
  {
   "cell_type": "markdown",
   "metadata": {},
   "source": [
    "### Naive Bayes"
   ]
  },
  {
   "cell_type": "code",
   "execution_count": 622,
   "metadata": {},
   "outputs": [
    {
     "name": "stdout",
     "output_type": "stream",
     "text": [
      "Accuracy: 91.6000%\n",
      "Auc: 62.5399%\n"
     ]
    }
   ],
   "source": [
    "from sklearn.metrics import accuracy_score\n",
    "from sklearn.naive_bayes import MultinomialNB\n",
    "from sklearn.metrics import roc_auc_score\n",
    "mnb = MultinomialNB()\n",
    "#mnb.fit(train_X.toarray(), train_labels)\n",
    "mnb.fit(train, train_labels)\n",
    "#y_pred = mnb.predict(test_X.toarray())\n",
    "y_pred = mnb.predict(test)\n",
    "#print(\"Number of mislabeled points out of a total %d points : %d\"\n",
    " #     % (test_text.shape[0], (test_labels != y_pred).sum()))\n",
    "accuracy = accuracy_score(test_labels, y_pred)\n",
    "print(f\"Accuracy: {accuracy:.4%}\")\n",
    "auc = roc_auc_score(test_labels, y_pred)\n",
    "print(f\"Auc: {auc:.4%}\")"
   ]
  },
  {
   "cell_type": "code",
   "execution_count": 623,
   "metadata": {},
   "outputs": [
    {
     "data": {
      "image/png": "[encoded data removed]",
      "text/plain": [
       "<Figure size 576x576 with 2 Axes>"
      ]
     },
     "metadata": {
      "needs_background": "light"
     },
     "output_type": "display_data"
    },
    {
     "name": "stdout",
     "output_type": "stream",
     "text": [
      "              precision    recall  f1-score   support\n",
      "\n",
      "           0       0.93      0.98      0.96       228\n",
      "           1       0.55      0.27      0.36        22\n",
      "\n",
      "    accuracy                           0.92       250\n",
      "   macro avg       0.74      0.63      0.66       250\n",
      "weighted avg       0.90      0.92      0.90       250\n",
      "\n"
     ]
    }
   ],
   "source": [
    "mostrar_resultados(test_labels, y_pred)"
   ]
  },
  {
   "cell_type": "markdown",
   "metadata": {},
   "source": [
    "### Soporte vectores"
   ]
  },
  {
   "cell_type": "code",
   "execution_count": 624,
   "metadata": {},
   "outputs": [
    {
     "name": "stdout",
     "output_type": "stream",
     "text": [
      "Accuracy: 92.8000%\n",
      "Auc: 67.3046%\n"
     ]
    }
   ],
   "source": [
    "from sklearn.svm import LinearSVC\n",
    "from sklearn.metrics import accuracy_score\n",
    "svc = LinearSVC(C= 1, class_weight = 'balanced') #Indicamos que las clases están desbalanceadas\n",
    "#svc.fit(train_X, train_labels)\n",
    "#pred = svc.predict(test_X)\n",
    "svc.fit(train, train_labels)\n",
    "pred = svc.predict(test)\n",
    "accuracy = accuracy_score(test_labels, pred)\n",
    "print(f\"Accuracy: {accuracy:.4%}\")\n",
    "auc = roc_auc_score(test_labels, pred)\n",
    "print(f\"Auc: {auc:.4%}\")"
   ]
  },
  {
   "cell_type": "code",
   "execution_count": 625,
   "metadata": {},
   "outputs": [
    {
     "data": {
      "image/png": "[encoded data removed]",
      "text/plain": [
       "<Figure size 576x576 with 2 Axes>"
      ]
     },
     "metadata": {
      "needs_background": "light"
     },
     "output_type": "display_data"
    },
    {
     "name": "stdout",
     "output_type": "stream",
     "text": [
      "              precision    recall  f1-score   support\n",
      "\n",
      "           0       0.94      0.98      0.96       228\n",
      "           1       0.67      0.36      0.47        22\n",
      "\n",
      "    accuracy                           0.93       250\n",
      "   macro avg       0.80      0.67      0.72       250\n",
      "weighted avg       0.92      0.93      0.92       250\n",
      "\n"
     ]
    }
   ],
   "source": [
    "mostrar_resultados(test_labels, pred)"
   ]
  },
  {
   "cell_type": "markdown",
   "metadata": {},
   "source": [
    "import time\n",
    "import matplotlib.pyplot as plt\n",
    "svc = LinearSVC(C= 1, class_weight = 'balanced')\n",
    "sizes = [10,100,200,300,400,500,600,700,998]\n",
    "times = []\n",
    "for n in sizes:\n",
    "    train_text, test_text, train_labels,test_labels = split(n)\n",
    "    train_X,test_X,voc = vec_caract(train_text,test_text)\n",
    "    start = time.perf_counter()\n",
    "    svc.fit(train_X, train_labels)\n",
    "    end = time.perf_counter()\n",
    "    times.append(end - start)\n",
    "plt.plot(sizes,times)\n",
    "plt.xlabel('Tamaño conjunto entrenanmiento')\n",
    "plt.ylabel('Tiempo')\n",
    "plt.title('Coste algorítmico Soporte Vectores')\n",
    "plt.show()"
   ]
  },
  {
   "cell_type": "code",
   "execution_count": 626,
   "metadata": {},
   "outputs": [
    {
     "data": {
      "text/plain": [
       "1102"
      ]
     },
     "execution_count": 626,
     "metadata": {},
     "output_type": "execute_result"
    }
   ],
   "source": [
    "n = svc.fit(train, train_labels)\n",
    "len(n.coef_[0])"
   ]
  },
  {
   "cell_type": "code",
   "execution_count": 627,
   "metadata": {},
   "outputs": [],
   "source": [
    "dic = {}\n",
    "for r,i in enumerate(v):\n",
    "    dic[i] = n.coef_[0][r]"
   ]
  },
  {
   "cell_type": "code",
   "execution_count": 647,
   "metadata": {},
   "outputs": [],
   "source": [
    "top_cinco = []\n",
    "\n",
    "for r in range(6):  # Número de veces que ejecutamos este bucle\n",
    "    maximo = max(dic, key = dic.get)  # Buscamos el máximo valor\n",
    "    top_cinco.append(maximo)  # Lo añadimos a una nueva lista\n",
    "    del dic[maximo]  # Lo eliminamos de la lista antigua, para que el próximo \"máximo valor\" no incluya este valor\n",
    "\n",
    "#print(top_cinco)\n",
    "top_cinco = ['novedades', 'nueva','clientes', 'exigentes', 'bien']"
   ]
  },
  {
   "cell_type": "code",
   "execution_count": 648,
   "metadata": {},
   "outputs": [],
   "source": [
    "dic = {}\n",
    "for r,i in enumerate(v):\n",
    "    dic[i] = n.coef_[0][r]\n",
    "\n",
    "p = {}\n",
    "for i in top_cinco:\n",
    "    p[i] = dic[i]"
   ]
  },
  {
   "cell_type": "code",
   "execution_count": 649,
   "metadata": {},
   "outputs": [
    {
     "data": {
      "image/png": "[encoded data removed]",
      "text/plain": [
       "<Figure size 720x360 with 1 Axes>"
      ]
     },
     "metadata": {
      "needs_background": "light"
     },
     "output_type": "display_data"
    }
   ],
   "source": [
    "import numpy as np\n",
    "import matplotlib.pyplot as plt\n",
    "\n",
    "\n",
    "# creating the dataset\n",
    "\n",
    "courses = list(p.keys())\n",
    "values = list(p.values())\n",
    "\n",
    "fig = plt.figure(figsize = (10, 5))\n",
    "\n",
    "# creating the bar plot\n",
    "plt.bar(courses, values, color ='#191970',\n",
    "\t\twidth = 0.9)\n",
    "\n",
    "plt.xlabel(\"\")\n",
    "plt.ylabel(\"Valor del coeficiente\")\n",
    "plt.title(\"Palabras más influyentes para clasificar como innovación\")\n",
    "plt.xticks(rotation = 45)\n",
    "plt.show()"
   ]
  },
  {
   "cell_type": "markdown",
   "metadata": {},
   "source": [
    "### Regresión logística"
   ]
  },
  {
   "cell_type": "code",
   "execution_count": 631,
   "metadata": {},
   "outputs": [
    {
     "name": "stdout",
     "output_type": "stream",
     "text": [
      "Accuracy: 92.8000%\n",
      "Auc: 69.3581%\n"
     ]
    }
   ],
   "source": [
    "from sklearn.linear_model import LogisticRegression\n",
    "lr = LogisticRegression(C=20, class_weight = 'balanced', n_jobs = 4) #Indicamos que las clases están desbalanceadas\n",
    "#lr.fit(train_X, train_labels)\n",
    "#pred2 = lr.predict(test_X)\n",
    "lr.fit(train, train_labels)\n",
    "pred2 = lr.predict(test)\n",
    "accuracy2 = accuracy_score(test_labels, pred2)\n",
    "print(f\"Accuracy: {accuracy2:.4%}\")\n",
    "lr_auc = roc_auc_score(test_labels, pred2)\n",
    "print(f\"Auc: {lr_auc:.4%}\")"
   ]
  },
  {
   "cell_type": "code",
   "execution_count": 632,
   "metadata": {},
   "outputs": [
    {
     "data": {
      "image/png": "[encoded data removed]",
      "text/plain": [
       "<Figure size 576x576 with 2 Axes>"
      ]
     },
     "metadata": {
      "needs_background": "light"
     },
     "output_type": "display_data"
    },
    {
     "name": "stdout",
     "output_type": "stream",
     "text": [
      "              precision    recall  f1-score   support\n",
      "\n",
      "           0       0.94      0.98      0.96       228\n",
      "           1       0.64      0.41      0.50        22\n",
      "\n",
      "    accuracy                           0.93       250\n",
      "   macro avg       0.79      0.69      0.73       250\n",
      "weighted avg       0.92      0.93      0.92       250\n",
      "\n"
     ]
    }
   ],
   "source": [
    "mostrar_resultados(test_labels, pred2)"
   ]
  },
  {
   "cell_type": "markdown",
   "metadata": {},
   "source": [
    "import time\n",
    "import matplotlib.pyplot as plt\n",
    "lr =  LogisticRegression(C=20, class_weight = 'balanced', n_jobs = 4)\n",
    "sizes = [10,100,200,300,400,500,600,700,998]\n",
    "times = []\n",
    "for n in sizes:\n",
    "    train_text, test_text, train_labels,test_labels = split(n)\n",
    "    train_X,test_X,voc = vec_caract(train_text,test_text)\n",
    "    start = time.perf_counter()\n",
    "    lr.fit(train_X, train_labels)\n",
    "    end = time.perf_counter()\n",
    "    times.append(end - start)\n",
    "plt.plot(sizes,times)\n",
    "plt.xlabel('Tamaño conjunto entrenanmiento')\n",
    "plt.ylabel('Tiempo')\n",
    "plt.title('Coste algorítmico Regresión Logística')\n",
    "plt.show()"
   ]
  },
  {
   "cell_type": "markdown",
   "metadata": {},
   "source": [
    "### Palabras que más influyen"
   ]
  },
  {
   "cell_type": "code",
   "execution_count": 633,
   "metadata": {},
   "outputs": [
    {
     "data": {
      "text/plain": [
       "1102"
      ]
     },
     "execution_count": 633,
     "metadata": {},
     "output_type": "execute_result"
    }
   ],
   "source": [
    "n = lr.fit(train, train_labels)\n",
    "len(n.coef_[0])"
   ]
  },
  {
   "cell_type": "code",
   "execution_count": 634,
   "metadata": {},
   "outputs": [],
   "source": [
    "dic = {}\n",
    "for r,i in enumerate(v):\n",
    "    dic[i] = n.coef_[0][r]"
   ]
  },
  {
   "cell_type": "code",
   "execution_count": 635,
   "metadata": {},
   "outputs": [],
   "source": [
    "top_cinco = []\n",
    "\n",
    "for r in range(13):  # Número de veces que ejecutamos este bucle\n",
    "    maximo = max(dic, key = dic.get)  # Buscamos el máximo valor\n",
    "    top_cinco.append(maximo)  # Lo añadimos a una nueva lista\n",
    "    del dic[maximo]  # Lo eliminamos de la lista antigua, para que el próximo \"máximo valor\" no incluya este valor\n",
    "#print(top_cinco)\n",
    "top_cinco = ['novedades', 'nueva', 'presentar', 'medida', 'necesidades']"
   ]
  },
  {
   "cell_type": "code",
   "execution_count": 636,
   "metadata": {},
   "outputs": [],
   "source": [
    "dic = {}\n",
    "for r,i in enumerate(v):\n",
    "    dic[i] = n.coef_[0][r]\n",
    "\n",
    "p = {}\n",
    "for i in top_cinco:\n",
    "    p[i] = dic[i]"
   ]
  },
  {
   "cell_type": "code",
   "execution_count": 637,
   "metadata": {},
   "outputs": [
    {
     "data": {
      "image/png": "[encoded data removed]",
      "text/plain": [
       "<Figure size 720x360 with 1 Axes>"
      ]
     },
     "metadata": {
      "needs_background": "light"
     },
     "output_type": "display_data"
    }
   ],
   "source": [
    "import numpy as np\n",
    "import matplotlib.pyplot as plt\n",
    "\n",
    "\n",
    "# creating the dataset\n",
    "\n",
    "courses = list(p.keys())\n",
    "values = list(p.values())\n",
    "\n",
    "fig = plt.figure(figsize = (10, 5))\n",
    "\n",
    "# creating the bar plot\n",
    "plt.bar(courses, values, color ='#8A2BE2',\n",
    "\t\twidth = 0.9)\n",
    "\n",
    "plt.xlabel(\"\")\n",
    "plt.ylabel(\"Valor del coeficiente\")\n",
    "plt.title(\"Palabras más influyentes para clasificar como innovación\")\n",
    "plt.xticks(rotation = 45)\n",
    "plt.show()"
   ]
  },
  {
   "cell_type": "markdown",
   "metadata": {},
   "source": [
    "### CURVA ROC"
   ]
  },
  {
   "cell_type": "code",
   "execution_count": 638,
   "metadata": {},
   "outputs": [],
   "source": [
    "from sklearn.metrics import roc_curve\n",
    "def plot_roc_curve(fper, tper, fper1, tper1, fper2, tper2):\n",
    "    fig = plt.figure(figsize = (10, 5))\n",
    "    plt.plot(fper, tper, color='red', label='Regresión Logística')\n",
    "    plt.plot(fper1,tper1, color = 'blue', label = 'Soporte Vectores')\n",
    "    plt.plot(fper2,tper2, color = 'yellow', label = 'Naive Bayes')\n",
    "    plt.plot([0, 1], [0, 1], color='green', linestyle='--')\n",
    "    plt.xlabel('Ratio Falsos Positivos')\n",
    "    plt.ylabel('Ratio Verdaderos Positivos')\n",
    "    plt.title('Curva ROC')\n",
    "    plt.legend()\n",
    "    plt.show()"
   ]
  },
  {
   "cell_type": "code",
   "execution_count": 639,
   "metadata": {},
   "outputs": [],
   "source": [
    "fper, tper, thresholds = roc_curve(test_labels, pred2)\n",
    "fper1, tper1, thresholds1 = roc_curve(test_labels, pred)\n",
    "fper2, tper2, thresholds2 = roc_curve(test_labels, y_pred)"
   ]
  },
  {
   "cell_type": "code",
   "execution_count": 640,
   "metadata": {},
   "outputs": [
    {
     "data": {
      "image/png": "[encoded data removed]",
      "text/plain": [
       "<Figure size 720x360 with 1 Axes>"
      ]
     },
     "metadata": {
      "needs_background": "light"
     },
     "output_type": "display_data"
    },
    {
     "name": "stdout",
     "output_type": "stream",
     "text": [
      "Auc Regresión Logística: 69.3581%\n",
      "Auc Soporte Vectores: 67.3046%\n",
      "Auc Naive Bayes: 62.5399%\n"
     ]
    }
   ],
   "source": [
    "plot_roc_curve(fper, tper,fper1, tper1,fper2, tper2)\n",
    "\n",
    "lr_auc = roc_auc_score(test_labels, pred2)\n",
    "print(f\"Auc Regresión Logística: {lr_auc:.4%}\")\n",
    "svc_auc = roc_auc_score(test_labels, pred)\n",
    "print(f\"Auc Soporte Vectores: {svc_auc:.4%}\")\n",
    "nb_auc = roc_auc_score(test_labels, y_pred)\n",
    "print(f\"Auc Naive Bayes: {nb_auc:.4%}\")"
   ]
  },
  {
   "cell_type": "markdown",
   "metadata": {},
   "source": [
    "# DATOS BALANCEADOS"
   ]
  },
  {
   "cell_type": "code",
   "execution_count": 660,
   "metadata": {},
   "outputs": [],
   "source": [
    "#bal =pd.read_csv('data_balanceado')\n",
    "#bal[\"text\"].apply(tokenize)\n",
    "\n",
    "#from sklearn.model_selection import train_test_split\n",
    "#train_text, test_text, train_lab, test_lab = train_test_split(tokenize2(bal[\"text\"]), bal[\"innov\"], stratify=bal[\"innov\"])\n",
    "#print(f\"Training examples: {len(train_text)}, testing examples {len(test_text)}\")\n",
    "\n",
    "#real_vectorizer = CountVectorizer(tokenizer = tokenize, binary=True)\n",
    "#train_X = real_vectorizer.fit_transform(train_text)\n",
    "#test_X = real_vectorizer.transform(test_text)\n",
    "\n",
    "#train_text = tokenize2(train['text'])\n",
    "#train_lab = train['innov']\n",
    "#test_text = tokenize2(test['text'])\n",
    "#test_lab = test['innov']\n",
    "#real_vectorizer = CountVectorizer(tokenizer = tokenize, binary=True)\n",
    "#train_X = real_vectorizer.fit_transform(train_text)\n",
    "#test_X = real_vectorizer.transform(test_text)\n",
    "#train =pd.read_csv('tr_bal')\n",
    "#test = pd.read_csv('te')"
   ]
  },
  {
   "cell_type": "code",
   "execution_count": 672,
   "metadata": {},
   "outputs": [
    {
     "name": "stdout",
     "output_type": "stream",
     "text": [
      "Training examples: 750, testing examples 250\n"
     ]
    }
   ],
   "source": [
    "from sklearn.model_selection import train_test_split\n",
    "train_text, test_text, train_labels, test_labels = train_test_split(tokenize2(x[\"text\"]), x[\"innov\"], stratify=x[\"innov\"])\n",
    "print(f\"Training examples: {len(train_text)}, testing examples {len(test_text)}\")"
   ]
  },
  {
   "cell_type": "code",
   "execution_count": 687,
   "metadata": {},
   "outputs": [],
   "source": [
    "#real_vectorizer = CountVectorizer(tokenizer = tokenize, binary=True)\n",
    "real_vectorizer = CountVectorizer()\n",
    "train_X = real_vectorizer.fit_transform(train_text)\n",
    "test_X = real_vectorizer.transform(test_text)"
   ]
  },
  {
   "cell_type": "code",
   "execution_count": 688,
   "metadata": {},
   "outputs": [
    {
     "data": {
      "text/plain": [
       "2918"
      ]
     },
     "execution_count": 688,
     "metadata": {},
     "output_type": "execute_result"
    }
   ],
   "source": [
    "voc = real_vectorizer.get_feature_names_out()\n",
    "len(voc)"
   ]
  },
  {
   "cell_type": "code",
   "execution_count": 689,
   "metadata": {},
   "outputs": [],
   "source": [
    "matriz = train_X.toarray()"
   ]
  },
  {
   "cell_type": "code",
   "execution_count": 690,
   "metadata": {},
   "outputs": [],
   "source": [
    "elim = []\n",
    "for n,v in enumerate(np.einsum('ij->j', matriz) ==1):\n",
    "    if v == True:\n",
    "        elim.append(n)\n",
    "\n",
    "for n,v in enumerate(voc):\n",
    "    if len(v) <=2:\n",
    "        elim.append(n)\n",
    "\n",
    "elim = np.unique(elim)        \n",
    "v = np.delete(voc,elim)"
   ]
  },
  {
   "cell_type": "code",
   "execution_count": 691,
   "metadata": {},
   "outputs": [],
   "source": [
    "train = np.delete(train_X.toarray(), elim, axis=1)\n",
    "test = np.delete(test_X.toarray(), elim, axis=1)"
   ]
  },
  {
   "cell_type": "code",
   "execution_count": 692,
   "metadata": {},
   "outputs": [],
   "source": [
    "#train = np.delete(train, elim1, axis=1)\n",
    "#test = np.delete(test, elim1, axis=1)"
   ]
  },
  {
   "cell_type": "code",
   "execution_count": 693,
   "metadata": {},
   "outputs": [],
   "source": [
    "from imblearn.over_sampling import SMOTE\n",
    "sm = SMOTE(random_state=42)\n",
    "X_res, y_res = sm.fit_resample(train, train_labels)"
   ]
  },
  {
   "cell_type": "code",
   "execution_count": 694,
   "metadata": {},
   "outputs": [
    {
     "data": {
      "text/plain": [
       "683"
      ]
     },
     "execution_count": 694,
     "metadata": {},
     "output_type": "execute_result"
    }
   ],
   "source": [
    "sum(y_res == 0)"
   ]
  },
  {
   "cell_type": "code",
   "execution_count": 695,
   "metadata": {},
   "outputs": [
    {
     "data": {
      "text/plain": [
       "683"
      ]
     },
     "execution_count": 695,
     "metadata": {},
     "output_type": "execute_result"
    }
   ],
   "source": [
    "sum(y_res == 1)"
   ]
  },
  {
   "cell_type": "code",
   "execution_count": 696,
   "metadata": {},
   "outputs": [
    {
     "data": {
      "image/png": "[encoded data removed]",
      "text/plain": [
       "<Figure size 432x288 with 1 Axes>"
      ]
     },
     "metadata": {},
     "output_type": "display_data"
    }
   ],
   "source": [
    "import matplotlib.pyplot as plt\n",
    "tweets = [682,682]\n",
    "nombres = [\"No Innovación\",\"Innovación\"]\n",
    "colores = ['#4169E1','#00FFFF']\n",
    "plt.pie(tweets, labels=nombres, autopct=\"%0.1f %%\", colors=colores)\n",
    "plt.axis(\"equal\")\n",
    "plt.title('Porcentaje de tweets con innovación tras aplicar SMOTE')\n",
    "plt.show()"
   ]
  },
  {
   "cell_type": "markdown",
   "metadata": {},
   "source": [
    "## Modelos"
   ]
  },
  {
   "cell_type": "markdown",
   "metadata": {},
   "source": [
    "### Naive Bayes"
   ]
  },
  {
   "cell_type": "code",
   "execution_count": 697,
   "metadata": {},
   "outputs": [
    {
     "name": "stdout",
     "output_type": "stream",
     "text": [
      "Accuracy: 85.2000%\n",
      "Auc: 74.2674%\n"
     ]
    }
   ],
   "source": [
    "from sklearn.naive_bayes import MultinomialNB\n",
    "from sklearn.metrics import roc_auc_score\n",
    "mnbb = MultinomialNB()\n",
    "#y_pred = mnbb.fit(train_X.toarray(), train_lab).predict(test_X.toarray())\n",
    "y_pred = mnbb.fit(X_res, y_res).predict(test)\n",
    "#print(\"Number of mislabeled points out of a total %d points : %d\"\n",
    " #    % (test_text.shape[0], (test_lab != y_pred).sum()))\n",
    "accuracy = accuracy_score(test_labels, y_pred)\n",
    "print(f\"Accuracy: {accuracy:.4%}\")\n",
    "lr_auc = roc_auc_score(test_labels, y_pred)\n",
    "print(f\"Auc: {lr_auc:.4%}\")"
   ]
  },
  {
   "cell_type": "code",
   "execution_count": 698,
   "metadata": {},
   "outputs": [
    {
     "data": {
      "image/png": "[encoded data removed]",
      "text/plain": [
       "<Figure size 576x576 with 2 Axes>"
      ]
     },
     "metadata": {
      "needs_background": "light"
     },
     "output_type": "display_data"
    },
    {
     "name": "stdout",
     "output_type": "stream",
     "text": [
      "              precision    recall  f1-score   support\n",
      "\n",
      "           0       0.96      0.88      0.91       227\n",
      "           1       0.33      0.61      0.43        23\n",
      "\n",
      "    accuracy                           0.85       250\n",
      "   macro avg       0.65      0.74      0.67       250\n",
      "weighted avg       0.90      0.85      0.87       250\n",
      "\n"
     ]
    }
   ],
   "source": [
    "mostrar_resultados(test_labels, y_pred)"
   ]
  },
  {
   "cell_type": "markdown",
   "metadata": {},
   "source": [
    "from sklearn.naive_bayes import GaussianNB\n",
    "gnbb = GaussianNB()\n",
    "y_pred = gnbb.fit(train_X.toarray(), train_lab).predict(test_X.toarray())\n",
    "#y_pred = gnbb.fit(train, train_lab).predict(test)\n",
    "#print(\"Number of mislabeled points out of a total %d points : %d\"\n",
    "#% (test_text.shape[0], (test_lab != y_pred).sum()))\n",
    "accuracy = accuracy_score(test_lab, y_pred)\n",
    "print(f\"Accuracy: {accuracy:.4%}\")\n",
    "lr_auc = roc_auc_score(test_lab, y_pred)\n",
    "print(f\"Auc: {lr_auc:.4%}\")"
   ]
  },
  {
   "cell_type": "markdown",
   "metadata": {},
   "source": [
    "### Soporte vectores"
   ]
  },
  {
   "cell_type": "code",
   "execution_count": 699,
   "metadata": {},
   "outputs": [
    {
     "name": "stdout",
     "output_type": "stream",
     "text": [
      "Accuracy: 77.6000%\n",
      "Auc: 64.2214%\n"
     ]
    }
   ],
   "source": [
    "from sklearn.svm import LinearSVC\n",
    "from sklearn.metrics import accuracy_score\n",
    "svcb = LinearSVC(C= 1, class_weight = 'balanced') #Indicamos que las clases están desbalanceadas\n",
    "#svcb.fit(train_X, train_lab)\n",
    "#pred = svcb.predict(test_X)\n",
    "svcb.fit(X_res, y_res)\n",
    "pred = svcb.predict(test)\n",
    "accuracy = accuracy_score(test_labels, pred)\n",
    "print(f\"Accuracy: {accuracy:.4%}\")\n",
    "from sklearn.metrics import roc_auc_score\n",
    "lr_auc = roc_auc_score(test_labels, pred)\n",
    "print(f\"Auc: {lr_auc:.4%}\")"
   ]
  },
  {
   "cell_type": "code",
   "execution_count": 700,
   "metadata": {},
   "outputs": [
    {
     "data": {
      "image/png": "[encoded data removed]",
      "text/plain": [
       "<Figure size 576x576 with 2 Axes>"
      ]
     },
     "metadata": {
      "needs_background": "light"
     },
     "output_type": "display_data"
    },
    {
     "name": "stdout",
     "output_type": "stream",
     "text": [
      "              precision    recall  f1-score   support\n",
      "\n",
      "           0       0.94      0.81      0.87       227\n",
      "           1       0.20      0.48      0.28        23\n",
      "\n",
      "    accuracy                           0.78       250\n",
      "   macro avg       0.57      0.64      0.57       250\n",
      "weighted avg       0.87      0.78      0.81       250\n",
      "\n"
     ]
    }
   ],
   "source": [
    "mostrar_resultados(test_labels, pred)"
   ]
  },
  {
   "cell_type": "code",
   "execution_count": 701,
   "metadata": {},
   "outputs": [
    {
     "data": {
      "text/plain": [
       "1149"
      ]
     },
     "execution_count": 701,
     "metadata": {},
     "output_type": "execute_result"
    }
   ],
   "source": [
    "n = svc.fit(X_res, y_res)\n",
    "len(n.coef_[0])"
   ]
  },
  {
   "cell_type": "code",
   "execution_count": 702,
   "metadata": {},
   "outputs": [],
   "source": [
    "dic = {}\n",
    "for r,i in enumerate(v):\n",
    "    dic[i] = n.coef_[0][r]"
   ]
  },
  {
   "cell_type": "code",
   "execution_count": 703,
   "metadata": {},
   "outputs": [],
   "source": [
    "top_cinco = []\n",
    "\n",
    "for r in range(5):  # Número de veces que ejecutamos este bucle\n",
    "    maximo = max(dic, key = dic.get)  # Buscamos el máximo valor\n",
    "    top_cinco.append(maximo)  # Lo añadimos a una nueva lista\n",
    "    del dic[maximo]  # Lo eliminamos de la lista antigua, para que el próximo \"máximo valor\" no incluya este valor\n",
    "\n",
    "#print(top_cinco)\n",
    "top_cinco = ['novedades', 'presentar', 'nueva', 'comfort', 'conocer']"
   ]
  },
  {
   "cell_type": "code",
   "execution_count": 704,
   "metadata": {},
   "outputs": [],
   "source": [
    "dic = {}\n",
    "for r,i in enumerate(v):\n",
    "    dic[i] = n.coef_[0][r]\n",
    "\n",
    "p = {}\n",
    "for i in top_cinco:\n",
    "    p[i] = dic[i]"
   ]
  },
  {
   "cell_type": "code",
   "execution_count": 705,
   "metadata": {},
   "outputs": [
    {
     "data": {
      "image/png": "[encoded data removed]",
      "text/plain": [
       "<Figure size 720x360 with 1 Axes>"
      ]
     },
     "metadata": {
      "needs_background": "light"
     },
     "output_type": "display_data"
    }
   ],
   "source": [
    "import numpy as np\n",
    "import matplotlib.pyplot as plt\n",
    "\n",
    "\n",
    "# creating the dataset\n",
    "\n",
    "courses = list(p.keys())\n",
    "values = list(p.values())\n",
    "\n",
    "fig = plt.figure(figsize = (10, 5))\n",
    "\n",
    "# creating the bar plot\n",
    "plt.bar(courses, values, color ='#191970',\n",
    "\t\twidth = 0.9)\n",
    "\n",
    "plt.xlabel(\"\")\n",
    "plt.ylabel(\"Valor del coeficiente\")\n",
    "plt.title(\"Palabras más influyentes para clasificar como innovación\")\n",
    "plt.xticks(rotation = 45)\n",
    "plt.show()"
   ]
  },
  {
   "cell_type": "markdown",
   "metadata": {},
   "source": [
    "### Regresión logística"
   ]
  },
  {
   "cell_type": "code",
   "execution_count": 706,
   "metadata": {},
   "outputs": [
    {
     "name": "stdout",
     "output_type": "stream",
     "text": [
      "Accuracy: 80.0000%\n",
      "Auc: 67.4966%\n"
     ]
    }
   ],
   "source": [
    "from sklearn.linear_model import LogisticRegression\n",
    "lrb = LogisticRegression(C=1,class_weight = 'balanced', n_jobs = 4) #Indicamos que las clases están desbalanceadas\n",
    "#lrb.fit(train_X, train_lab)\n",
    "#pred2 = lrb.predict(test_X)\n",
    "lrb.fit(X_res, y_res)\n",
    "pred2 = lrb.predict(test)\n",
    "accuracy2 = accuracy_score(test_labels, pred2)\n",
    "print(f\"Accuracy: {accuracy2:.4%}\")\n",
    "lr_auc = roc_auc_score(test_labels, pred2)\n",
    "print(f\"Auc: {lr_auc:.4%}\")"
   ]
  },
  {
   "cell_type": "code",
   "execution_count": 707,
   "metadata": {},
   "outputs": [
    {
     "data": {
      "text/plain": [
       "1149"
      ]
     },
     "execution_count": 707,
     "metadata": {},
     "output_type": "execute_result"
    }
   ],
   "source": [
    "n = lr.fit(X_res, y_res)\n",
    "len(n.coef_[0])"
   ]
  },
  {
   "cell_type": "code",
   "execution_count": 708,
   "metadata": {},
   "outputs": [],
   "source": [
    "dic = {}\n",
    "for r,i in enumerate(v):\n",
    "    dic[i] = n.coef_[0][r]"
   ]
  },
  {
   "cell_type": "code",
   "execution_count": 709,
   "metadata": {},
   "outputs": [],
   "source": [
    "top_cinco = []\n",
    "\n",
    "for r in range(5):  # Número de veces que ejecutamos este bucle\n",
    "    maximo = max(dic, key = dic.get)  # Buscamos el máximo valor\n",
    "    top_cinco.append(maximo)  # Lo añadimos a una nueva lista\n",
    "    del dic[maximo]  # Lo eliminamos de la lista antigua, para que el próximo \"máximo valor\" no incluya este valor\n",
    "\n",
    "#print(top_cinco)\n",
    "top_cinco = ['novedades', 'nueva', 'presentar','membrana', 'comfort']"
   ]
  },
  {
   "cell_type": "code",
   "execution_count": 710,
   "metadata": {},
   "outputs": [],
   "source": [
    "dic = {}\n",
    "for r,i in enumerate(v):\n",
    "    dic[i] = n.coef_[0][r]\n",
    "\n",
    "p = {}\n",
    "for i in top_cinco:\n",
    "    p[i] = dic[i]"
   ]
  },
  {
   "cell_type": "code",
   "execution_count": 711,
   "metadata": {},
   "outputs": [
    {
     "data": {
      "image/png": "[encoded data removed]",
      "text/plain": [
       "<Figure size 720x360 with 1 Axes>"
      ]
     },
     "metadata": {
      "needs_background": "light"
     },
     "output_type": "display_data"
    }
   ],
   "source": [
    "import numpy as np\n",
    "import matplotlib.pyplot as plt\n",
    "\n",
    "\n",
    "# creating the dataset\n",
    "\n",
    "courses = list(p.keys())\n",
    "values = list(p.values())\n",
    "\n",
    "fig = plt.figure(figsize = (10, 5))\n",
    "\n",
    "# creating the bar plot\n",
    "plt.bar(courses, values, color ='#8A2BE2',\n",
    "\t\twidth = 0.9)\n",
    "\n",
    "plt.xlabel(\"\")\n",
    "plt.ylabel(\"Valor del coeficiente\")\n",
    "plt.title(\"Palabras más influyentes para clasificar como innovación\")\n",
    "plt.xticks(rotation = 45)\n",
    "plt.show()"
   ]
  },
  {
   "cell_type": "code",
   "execution_count": 712,
   "metadata": {},
   "outputs": [
    {
     "data": {
      "text/plain": [
       "array([1.93700383])"
      ]
     },
     "execution_count": 712,
     "metadata": {},
     "output_type": "execute_result"
    }
   ],
   "source": [
    "n.intercept_"
   ]
  },
  {
   "cell_type": "code",
   "execution_count": 713,
   "metadata": {},
   "outputs": [],
   "source": [
    "#FALTA VER SI SE MEJORA RESULTADOS PROCESANDO EL TEXTO, PERO DE MOMENTO ----> RESULTADOS UN POCO MALOS \n"
   ]
  },
  {
   "cell_type": "code",
   "execution_count": 714,
   "metadata": {},
   "outputs": [
    {
     "data": {
      "image/png": "[encoded data removed]",
      "text/plain": [
       "<Figure size 576x576 with 2 Axes>"
      ]
     },
     "metadata": {
      "needs_background": "light"
     },
     "output_type": "display_data"
    },
    {
     "name": "stdout",
     "output_type": "stream",
     "text": [
      "              precision    recall  f1-score   support\n",
      "\n",
      "           0       0.94      0.83      0.88       227\n",
      "           1       0.24      0.52      0.32        23\n",
      "\n",
      "    accuracy                           0.80       250\n",
      "   macro avg       0.59      0.67      0.60       250\n",
      "weighted avg       0.88      0.80      0.83       250\n",
      "\n"
     ]
    }
   ],
   "source": [
    "mostrar_resultados(test_labels, pred2)"
   ]
  },
  {
   "cell_type": "markdown",
   "metadata": {},
   "source": [
    "### ROC Curve"
   ]
  },
  {
   "cell_type": "code",
   "execution_count": 715,
   "metadata": {},
   "outputs": [],
   "source": [
    "fper, tper, thresholds = roc_curve(test_labels, pred2)\n",
    "fper1, tper1, thresholds1 = roc_curve(test_labels, pred)\n",
    "fper2, tper2, thresholds2 = roc_curve(test_labels, y_pred)"
   ]
  },
  {
   "cell_type": "code",
   "execution_count": 716,
   "metadata": {},
   "outputs": [
    {
     "data": {
      "image/png": "[encoded data removed]",
      "text/plain": [
       "<Figure size 720x360 with 1 Axes>"
      ]
     },
     "metadata": {
      "needs_background": "light"
     },
     "output_type": "display_data"
    },
    {
     "name": "stdout",
     "output_type": "stream",
     "text": [
      "Auc Regresión Logística: 67.4966%\n",
      "Auc Soporte Vectores: 64.2214%\n",
      "Auc Naive Bayes: 74.2674%\n"
     ]
    }
   ],
   "source": [
    "plot_roc_curve(fper, tper,fper1, tper1,fper2, tper2)\n",
    "\n",
    "lr_auc = roc_auc_score(test_labels, pred2)\n",
    "print(f\"Auc Regresión Logística: {lr_auc:.4%}\")\n",
    "svc_auc = roc_auc_score(test_labels, pred)\n",
    "print(f\"Auc Soporte Vectores: {svc_auc:.4%}\")\n",
    "nb_auc = roc_auc_score(test_labels, y_pred)\n",
    "print(f\"Auc Naive Bayes: {nb_auc:.4%}\")"
   ]
  },
  {
   "cell_type": "code",
   "execution_count": 717,
   "metadata": {},
   "outputs": [],
   "source": [
    "frases = ['Hola, os traigo la nueva colección de moda en zapatillas', 'Hoy juega el Real Madrid. Mucha suerte!',\n",
    "          'Si tu pie está feliz, tú estás feliz','La novedad más nueva de esta colección que estabáis esperando', '¿Has mirado ya la nueva colección? No te pierdas las novedades que traemos en tacones']"
   ]
  },
  {
   "cell_type": "code",
   "execution_count": 718,
   "metadata": {},
   "outputs": [],
   "source": [
    "preds = ['mnb','svc', 'lr', 'mnbb', 'svcb', 'lrb']"
   ]
  },
  {
   "cell_type": "code",
   "execution_count": 719,
   "metadata": {},
   "outputs": [
    {
     "name": "stdout",
     "output_type": "stream",
     "text": [
      "    1-Hola, os traigo la nueva colección de moda en zapatillas\n",
      "    1-Hoy juega el Real Madrid. Mucha suerte!\n",
      "    0-Si tu pie está feliz, tú estás feliz\n",
      "    1-La novedad más nueva de esta colección que estabáis esperando\n",
      "    1-¿Has mirado ya la nueva colección? No te pierdas las novedades que traemos en tacones\n"
     ]
    }
   ],
   "source": [
    "#Predicción con Naive Bayes\n",
    "real_vectorizer = CountVectorizer(vocabulary = v)\n",
    "frases_X = real_vectorizer.transform(tokenize2(frases))\n",
    "predicciones = mnbb.predict(frases_X)\n",
    "for text,innov in zip(frases,predicciones):\n",
    "    print(f\"{innov:5}-{text}\")"
   ]
  },
  {
   "cell_type": "code",
   "execution_count": 720,
   "metadata": {},
   "outputs": [
    {
     "name": "stdout",
     "output_type": "stream",
     "text": [
      "    1-Hola, os traigo la nueva colección de moda en zapatillas\n",
      "    1-Hoy juega el Real Madrid. Mucha suerte!\n",
      "    0-Si tu pie está feliz, tú estás feliz\n",
      "    1-La novedad más nueva de esta colección que estabáis esperando\n",
      "    1-¿Has mirado ya la nueva colección? No te pierdas las novedades que traemos en tacones\n"
     ]
    }
   ],
   "source": [
    "#Predicción con máquinas soporte vectores\n",
    "real_vectorizer = CountVectorizer(vocabulary = v)\n",
    "frases_X = real_vectorizer.transform(tokenize2(frases))\n",
    "predicciones = svcb.predict(frases_X.toarray())\n",
    "for text,innov in zip(frases,predicciones):\n",
    "    print(f\"{innov:5}-{text}\")"
   ]
  },
  {
   "cell_type": "code",
   "execution_count": 721,
   "metadata": {},
   "outputs": [
    {
     "name": "stdout",
     "output_type": "stream",
     "text": [
      "    1-Hola, os traigo la nueva colección de moda en zapatillas\n",
      "    1-Hoy juega el Real Madrid. Mucha suerte!\n",
      "    0-Si tu pie está feliz, tú estás feliz\n",
      "    1-La novedad más nueva de esta colección que estabáis esperando\n",
      "    1-¿Has mirado ya la nueva colección? No te pierdas las novedades que traemos en tacones\n"
     ]
    }
   ],
   "source": [
    "#Predicción con regresión logística\n",
    "real_vectorizer = CountVectorizer(vocabulary = v)\n",
    "frases_X = real_vectorizer.transform(tokenize2(frases))\n",
    "predicciones = lr.predict(frases_X.toarray())\n",
    "for text,innov in zip(frases,predicciones):\n",
    "    print(f\"{innov:5}-{text}\")"
   ]
  },
  {
   "cell_type": "code",
   "execution_count": 722,
   "metadata": {},
   "outputs": [
    {
     "name": "stdout",
     "output_type": "stream",
     "text": [
      "    1-Hola, os traigo la nueva colección de moda en zapatillas\n",
      "    1-Hoy juega el Real Madrid. Mucha suerte!\n",
      "    0-Si tu pie está feliz, tú estás feliz\n",
      "    1-La novedad más nueva de esta colección que estabáis esperando\n",
      "    1-¿Has mirado ya la nueva colección? No te pierdas las novedades que traemos en tacones\n"
     ]
    }
   ],
   "source": [
    "#Predicción con regresión logística\n",
    "real_vectorizer = CountVectorizer(vocabulary = v)\n",
    "frases_X = real_vectorizer.transform(tokenize2(frases))\n",
    "predicciones = svcb.predict(frases_X.toarray())\n",
    "for text,innov in zip(frases,predicciones):\n",
    "    print(f\"{innov:5}-{text}\")"
   ]
  },
  {
   "cell_type": "code",
   "execution_count": 742,
   "metadata": {},
   "outputs": [
    {
     "name": "stdout",
     "output_type": "stream",
     "text": [
      "    0-RT @YorokobuMag: De lejos parece asqueroso, pero de cerca es 😍😍😍https://t.co/AXPOx6PBOT\n",
      "    1-La nueva colección está repleta de modelos versátiles y atemporales, ¿La has visto ya? https://t.co/pptY8IsRnl #ecofriendly #vegan #shoesaddict\n",
      "    0-😍😍😍 https://t.co/AVeWZCSV1K\n",
      "    0-La belleza de la fabricación artesanal https://t.co/pptY8IsRnl #artesania https://t.co/hdH7XB6nqp\n",
      "    0-La primera comunión es un acontecimiento único que los peques recordarán toda su vida, ¿Sabes que tienes que tener en cuenta a la hora de elegirlo? ¡Te lo contamos! https://t.co/BAvUkaDBvr #primeracomunión https://t.co/cp3G8oEUV3\n",
      "    0-Nuestro calzado implica un proceso de fabricación sobre un tejido natural de manera artesanal por lo que  cualquier irregularidad es parte de su característica😍 https://t.co/pptY8IsRnl https://t.co/HIJtWx78oQ\n",
      "    0-RT @JuanjoLara01: Me ha dado por pensar que cada círculo encierra una historia. https://t.co/8Rgtm5RHDw\n",
      "    0-¡Porque madre no hay que una y se lo merece todo! 15% dto en pedidos superior a 50€ https://t.co/pptY8IsRnl #DiaDeLaMadre\n",
      "    0-❤️ https://t.co/flAerGnbC7\n",
      "    0-RT @WWF_LAC: Este 22 de abril conmemoraremos otro #DíaDeLaTierra. ¿Cuál es la situación actual del 🌎? ¿Estamos caminando hacia un futuro so…\n",
      "    0-Siéntete privilegiado(a) de lo que te rodea y, hoy y siempre, respeta y cuida nuestro hogar como se merece. Recuerda que las pequeñas acciones tienen grandes consecuencias y no existe un plan B #DiaInternacionalDeLaMadreTierra #DiaInternacionalDeLaTierra\n",
      "    0-¿Sabías que este es el segundo tren solar que funcionará en el mundo? Pequeños pasos hacia un #futurosostenible 👏👏👏 https://t.co/aSApfBgOux\n",
      "    0-RT @HacesMas: 🔥 ¿Qué está pasando en la Antártida? 🔥 \n",
      "El continente registró temperaturas de 34 grados en enero... https://t.co/YI7DVtfHV4…\n",
      "    0-RT @HacesMas: 🌍🗑 Un mundo de residuos 🌍🗑\n",
      "Cada año se generan en el mundo 2.010 millones de toneladas de desechos y cada español contribuye…\n",
      "    0-Llega la época de las #alpargatas Visita la tienda online y descubre todos los modelos, ¿Con cuál te quedas? https://t.co/pptY8IsRnl #naturalworldeco #govegan\n"
     ]
    }
   ],
   "source": [
    "#Predicción naive bayes balanceado\n",
    "real_vectorizer = CountVectorizer(vocabulary = v)\n",
    "frases_X = real_vectorizer.transform(tokenize2(df['text']))\n",
    "predicciones = mnbb.predict(frases_X.toarray())\n",
    "for text,innov in zip(df['text'],predicciones):\n",
    "    print(f\"{innov:5}-{text}\")"
   ]
  },
  {
   "cell_type": "code",
   "execution_count": 727,
   "metadata": {},
   "outputs": [
    {
     "name": "stdout",
     "output_type": "stream",
     "text": [
      "    1-Te traemos el modelo más buscado y en los colores de la temporada 💖 https://t.co/X0ZoTtfzMe https://t.co/4uGx8shGPy\n",
      "    1-Mallorca, una vida intensa bajo el cielo mediterráneo ☁🌊🌞. Los más atrevidos son capaces de recorrer la isla entera a base de darle al zapato 👟. ¿Eres capaz de convertirte en un aventurero del caminar? https://t.co/2FEZYBhVDa https://t.co/bGJpD5O3I7\n",
      "    0-Uno de los modelos más buscados de la temporada. La combinación perfecta entre comodidad y tendencia. ¿Aún no te has hecho con él?  https://t.co/ejgdQ2LAAK https://t.co/j6Jm8bL6Eq\n",
      "    0-Ponte tus sandalias y sal a comerte el mundo con la máxima comodidad. ¿Cuáles son tus favoritas? https://t.co/j8oXyyz0fD https://t.co/hCdSGzGO6r\n",
      "    0-¿Has sentido un flechazo con este modelo? Nosotros sí 😍 Menciona a esa persona que crees que se enamorará al instante de estos Pikolinos… https://t.co/9jrSb4MZY2 https://t.co/Lv1mZEcVtI\n"
     ]
    }
   ],
   "source": [
    "#Predicción naive bayes balanceado\n",
    "real_vectorizer = CountVectorizer(vocabulary = v)\n",
    "frases_X = real_vectorizer.transform(tokenize2(df['text']))\n",
    "predicciones = mnbb.predict(frases_X.toarray())\n",
    "for text,innov in zip(df['text'],predicciones):\n",
    "    print(f\"{innov:5}-{text}\")"
   ]
  },
  {
   "cell_type": "code",
   "execution_count": 746,
   "metadata": {},
   "outputs": [
    {
     "name": "stdout",
     "output_type": "stream",
     "text": [
      "    1-Avance de la nueva colección de Martinelli. Salones metalizados perfectos para eventos en rosa, oro, plata y negro.\n",
      "\n",
      "#martinelli #newcollection #heels #fashion https://t.co/jlhXIjWg3m\n",
      "    0-¿Cómo limpiar tu zapato de piel Antic?\n",
      "\n",
      "Vuestras dudas quedarán resueltas en 4 sencillos pasos.\n",
      "\n",
      "¿Qué os parece este contenido? ¿Útil?\n",
      "\n",
      "#martinellishoes #cleanshoes #howtoclean #eventos #zapatoselegantes #zapatos https://t.co/45PZwuULeJ\n",
      "    0-¿Cuántos eventos tienes este año? ¿Más de 3?\n",
      "\n",
      "No lo olvides: nuestro sorteo \"The Biggest Shoe Closet\" sigue activo recuerda participar en el post del sorteo👉https://t.co/AqnJXsfp33\n",
      "\n",
      "#thebiggestshoecloset #martinelli #sorteoespaña #sorteo #gratis #sorteos #giveaway #premio https://t.co/1nwQ1zoLP1\n",
      "    0-@OCarraminana Hola Oscar, sí en CASAS y El Corte Inglés también puedes consultar otros puntos de venta en este enlace: https://t.co/oDhjoEGeX7\n",
      "    0-@IsiRumon Hola Isi, lamentamos lo ocurrido por favor ponte en contacto con info@martinelli.es para gestionar esta incidencia. Gracias y disculpa.\n",
      "    0-La sandalia ideal para los eventos viene de la mano de Martinelli. Tacón metalizado con un estampado bicolor y unas tiras que abrazan el tobillo. \n",
      "\n",
      "MICHIGAN 1594-A785Z https://t.co/J4O0cIybBf\n",
      "    0-Te presentamos el nuevo modelo Thelma. Un salón cómodo, elegante y femenino.\n",
      "\n",
      "¿Os gustaría ver un tutorial de cómo atarte este modelo y que quede perfecto?\n",
      "\n",
      "THELMA 1489-A529D\n",
      "\n",
      "------\n",
      "\n",
      "#martinellishoes #newcollection #ss22 #heels #fashion\n",
      " Fotos de la publicación de MARTINELLI https://t.co/8kxmVavn7a\n",
      "    0-El modelo Thelma es un salón con tiras elásticas y anchas y una planta de gel y suela flexible que hacen que sean muy cómodas.\n",
      "\n",
      "THELMA 1489-A299Z\n",
      "\n",
      "#martinellishoes #newcollection #ss22 #heels #fashion https://t.co/P47BOITL3f\n",
      "    1-La nueva colección de Martinelli trae consigo modelos deportivos de todos los estilos y diseños. \n",
      "Zapatos deportivos para hombre cómodos, ligeros, flexibles y elegantes de vestir. \n",
      "\n",
      "#martinellishoes #newcollection #ss22 #sneakers #fashion https://t.co/0OLGGSFZqz\n",
      "    0-El náutico de siempre en su versión más primaveral. Zapato deportivo  fabricado en piel con suela gruesa y en color blanco. \n",
      "\n",
      "La opción más cómoda y  fresca para disfrutar esta temporada.\n",
      "\n",
      "RAWSON 1564-2618C\n",
      "#martinellishoes #newcollection #ss22 #sneakers https://t.co/S0lOqnlqhs\n",
      "    0-Da un toque chic a tus looks de fiesta con los salones Thelma en color fucsia.\n",
      "Su suela flexible y su planta de gel te asegurarán estar cómoda en todo momento.\n",
      "\n",
      "THELMA 1489-3366E\n",
      "#martinellishoes #newcollection #ss22 #heels https://t.co/NPGG3FPExg\n",
      "    0-¿Estás lista para arrasar en los eventos de esta temporada? \n",
      "Martinelli te lo pone fácil con este salón azul de corte clásico con un toque rompedor gracias a ese color atrevido.\n",
      "\n",
      "THELMA 1489-3366E\n",
      "\n",
      "#martinellishoes #newcollection #ss22 #heels https://t.co/2QphTtYoNd\n",
      "    0-Las sandalias de tacón Fillmore con suela antideslizante, son la opción perfecta para tus noches de verano.\n",
      "\n",
      "FILLMORE 1583-A726D\n",
      "\n",
      "#martinellishoes #newcollection #ss22 #heels\n",
      " Fotos de la publicación de MARTINELLI https://t.co/7t2O74CH3i\n",
      "    0-Un blucher de charol perfecto para las ocasiones más especiales. Elígelo y será un éxito asegurado. \n",
      "\n",
      "BARTON 1144-1975CYM\n",
      "\n",
      "#martinellishoes #newcollection #ss22 #elegance https://t.co/ugDdEOdxqr\n",
      "    0-El nuevo modelo Newport es un diseño fabricado en piel y que se encuentra entre el mundo casual y de vestir.\n",
      "Destaca por los adornos que contiene. \n",
      "\n",
      "NEWPORT 1513-2556L2\n",
      "#martinellishoes #newcollection #ss22 #newport https://t.co/LnYbjA0oRT\n"
     ]
    }
   ],
   "source": [
    "#Predicción naive bayes balanceado\n",
    "real_vectorizer = CountVectorizer(vocabulary = v)\n",
    "frases_X = real_vectorizer.transform(tokenize2(df['text']))\n",
    "predicciones = mnbb.predict(frases_X.toarray())\n",
    "for text,innov in zip(df['text'],predicciones):\n",
    "    print(f\"{innov:5}-{text}\")"
   ]
  },
  {
   "cell_type": "markdown",
   "metadata": {},
   "source": [
    "### NUBE DE PUNTOS"
   ]
  },
  {
   "cell_type": "code",
   "execution_count": 53,
   "metadata": {},
   "outputs": [],
   "source": [
    "tin = []\n",
    "for n,i in enumerate(x['innov']):\n",
    "    if i ==1:\n",
    "        tin.append(x['text'][n])"
   ]
  },
  {
   "cell_type": "code",
   "execution_count": 51,
   "metadata": {},
   "outputs": [],
   "source": [
    "import re\n",
    "import string\n",
    "import emoji\n",
    "from nltk.tokenize import word_tokenize\n",
    "from nltk.corpus import stopwords\n",
    "def preprocesamiento_nube(p):\n",
    "    frases = ''\n",
    "    for f in p:\n",
    "        frases += f\n",
    "    frases = frases.lower()\n",
    "    #p = [i.lower() for i in p] #Pasamos todo a minúsculas\n",
    "    frases = re.sub(r\"http\\S+|www\\S+|https\\S+\",'',frases)\n",
    "    #p = [re.sub(r\"http\\S+|www\\S+|https\\S+\",'',i) for i in p] #Eliminamos urls\n",
    "    frases = re.sub(r'\\@\\w+|\\#','',frases)\n",
    "    #p = [re.sub(r'\\@\\w+|\\#','',i) for i in p] #Eliminamos menciones y hastag\n",
    "    frases = frases.translate(str.maketrans('','',string.punctuation))\n",
    "    #p = [i.translate(str.maketrans('','',string.punctuation)) for i in p] #Eliminamos signos de puntuación\n",
    "    frases = emoji.get_emoji_regexp().sub(r'', frases)\n",
    "    #p = [emoji.get_emoji_regexp().sub(r'', i) for i in p] #Omitimos emojis\n",
    "    #tokens = word_tokenize(frases)\n",
    "    #p_tokens = [word_tokenize(i) for i in p] #Tokenizamos\n",
    "    #words = []\n",
    "    #for n,t in enumerate(tokens):\n",
    "        #if not t in stopwords.words('spanish'):\n",
    "            #words.append(t)\n",
    "    #wd = []\n",
    "    #from nltk.stem import SnowballStemmer\n",
    "    #for w in words:\n",
    "        #spanish_stemmer = SnowballStemmer('spanish')\n",
    "        #wd.append(spanish_stemmer.stem(w))\n",
    "    return ' '.join([word for word in frases.split(' ') if word not in stopwords.words('spanish')])"
   ]
  },
  {
   "cell_type": "code",
   "execution_count": 217,
   "metadata": {},
   "outputs": [
    {
     "name": "stdout",
     "output_type": "stream",
     "text": [
      "Populating the interactive namespace from numpy and matplotlib\n"
     ]
    },
    {
     "data": {
      "image/png": "[encoded data removed]",
      "text/plain": [
       "<Figure size 432x288 with 1 Axes>"
      ]
     },
     "metadata": {
      "needs_background": "light"
     },
     "output_type": "display_data"
    }
   ],
   "source": [
    "from wordcloud import WordCloud\n",
    "wordcloud = WordCloud(collocations = False, background_color = 'white').generate(preprocesamiento_nube(tin))\n",
    "%pylab inline\n",
    "import matplotlib.pyplot as plt\n",
    "plt.imshow(wordcloud, interpolation='bilinear')\n",
    "plt.axis(\"off\")\n",
    "plt.savefig('gráfico.png')"
   ]
  },
  {
   "cell_type": "markdown",
   "metadata": {},
   "source": [
    "### INNOVACIÓN POR CUENTAS"
   ]
  },
  {
   "cell_type": "code",
   "execution_count": 6,
   "metadata": {},
   "outputs": [],
   "source": [
    "cuentas = ['JomaSport', 'panter_calzado', 'Callaghan_Shoes', 'Pikolinos', 'CalzadoPitillos','MAGRITshoes',\n",
    "           'CalzadosRobusta','DianCalzado','FalSeguridad','pmcalzado','AlpeWomanShoes','DrCutillas',\n",
    "           'MartinelliShoes','snipe_shoes','GARVALIN', 'NaturalWorldEco','DAngelaShoes','LuisGonzaloShoe',\n",
    "          'CalzadosSegarra', 'calzadomiralles']"
   ]
  },
  {
   "cell_type": "code",
   "execution_count": 7,
   "metadata": {},
   "outputs": [
    {
     "data": {
      "text/plain": [
       "0      ¿Y si por #SanValentín le envías esta imagen a...\n",
       "1      RT @bbmarathon: Seguimos con buenas noticias 🤩...\n",
       "2      😍 #JomaTeam \\n#SoloporDeporte https://t.co/8Aq...\n",
       "3      @MXiaoPodium @rfetm_tenismesa @galiadvorak Fue...\n",
       "4      PODIO!!!!\\n\\n#JomaTeam #ElCorazónDeEspaña http...\n",
       "                             ...                        \n",
       "995    Zapatillas súper bonitas de @doctorcutillas de...\n",
       "996    All you need is love 🎤 ❤\\n\\n¿Cuál es para ti l...\n",
       "997    ¿Zapatos para pies con juanetes, dedos de mart...\n",
       "998    Te vas a poner las #botas\\n\\n#calzadosmiralles...\n",
       "999    ¡Buenos días por la mañana!\\n\\nHoy os comparti...\n",
       "Name: text, Length: 1000, dtype: object"
      ]
     },
     "execution_count": 7,
     "metadata": {},
     "output_type": "execute_result"
    }
   ],
   "source": [
    "x['text']"
   ]
  },
  {
   "cell_type": "code",
   "execution_count": 261,
   "metadata": {},
   "outputs": [],
   "source": [
    "d = {}\n",
    "for cuenta in cuentas:\n",
    "    suma = 0\n",
    "    for n,i in enumerate(x['cuenta']):\n",
    "        if i == cuenta and x['innov'][n] == 1:\n",
    "            suma += 1\n",
    "    d.update({cuenta:suma})\n",
    "    \n",
    "    "
   ]
  },
  {
   "cell_type": "code",
   "execution_count": 262,
   "metadata": {},
   "outputs": [],
   "source": [
    "from collections import OrderedDict\n",
    "p = {}\n",
    "for i in d.items():\n",
    "    p.update({i[0] :(i[1] * 100)/50})\n",
    "    \n",
    "sortedDict = OrderedDict(sorted(p.items(), key=lambda x: x[1], reverse = True))\n",
    "d = sortedDict"
   ]
  },
  {
   "cell_type": "code",
   "execution_count": 12,
   "metadata": {},
   "outputs": [
    {
     "data": {
      "image/png": "[encoded data removed]",
      "text/plain": [
       "<Figure size 720x360 with 1 Axes>"
      ]
     },
     "metadata": {
      "needs_background": "light"
     },
     "output_type": "display_data"
    }
   ],
   "source": [
    "import numpy as np\n",
    "import matplotlib.pyplot as plt\n",
    "\n",
    "\n",
    "# creating the dataset\n",
    "\n",
    "courses = list(d.keys())\n",
    "values = list(d.values())\n",
    "\n",
    "fig = plt.figure(figsize = (10, 5))\n",
    "\n",
    "# creating the bar plot\n",
    "plt.bar(courses, values, color ='#4169E1',\n",
    "\t\twidth = 0.9)\n",
    "\n",
    "plt.xlabel(\"Cuentas de empresas\")\n",
    "plt.ylabel(\"Porcentaje de tweets con innovación\")\n",
    "plt.title(\"Porcentaje de tweets con innovación en cada cuenta\")\n",
    "plt.xticks(rotation = 90)\n",
    "plt.show()\n",
    "\n"
   ]
  },
  {
   "cell_type": "code",
   "execution_count": 141,
   "metadata": {},
   "outputs": [],
   "source": [
    "### Algunas librerías\n",
    "import pandas as pd\n",
    "import numpy as np\n",
    "import matplotlib.pyplot as plt\n",
    "import seaborn as sns\n",
    " \n",
    "from sklearn.metrics import confusion_matrix\n",
    "from sklearn.metrics import classification_report\n",
    "from sklearn.model_selection import train_test_split\n",
    "from sklearn.linear_model import LogisticRegression\n",
    "from sklearn.decomposition import PCA\n",
    "from sklearn.tree import DecisionTreeClassifier\n",
    " \n",
    "from pylab import rcParams\n",
    " \n",
    "from imblearn.under_sampling import NearMiss\n",
    "from imblearn.over_sampling import RandomOverSampler\n",
    "from imblearn.combine import SMOTETomek\n",
    "from imblearn.ensemble import BalancedBaggingClassifier\n",
    " \n",
    "from collections import Counter\n",
    "\n",
    "from sklearn.model_selection import train_test_split \n",
    "from sklearn.metrics import f1_score, accuracy_score\n",
    "import re\n",
    "import string\n",
    "import emoji\n",
    "import pandas as pd\n",
    "from nltk.tokenize import word_tokenize\n",
    "from nltk.corpus import stopwords\n",
    "from sklearn import svm\n",
    "from sklearn.linear_model import LogisticRegression\n",
    "from sklearn.feature_extraction.text import CountVectorizer"
   ]
  },
  {
   "cell_type": "code",
   "execution_count": 685,
   "metadata": {},
   "outputs": [
    {
     "data": {
      "text/plain": [
       "0    RT @YorokobuMag: De lejos parece asqueroso, pe...\n",
       "1    La nueva colección está repleta de modelos ver...\n",
       "2                          😍😍😍 https://t.co/AVeWZCSV1K\n",
       "3    La belleza de la fabricación artesanal https:/...\n",
       "4    La primera comunión es un acontecimiento único...\n",
       "Name: text, dtype: object"
      ]
     },
     "execution_count": 685,
     "metadata": {},
     "output_type": "execute_result"
    }
   ],
   "source": [
    "df['text']"
   ]
  },
  {
   "cell_type": "code",
   "execution_count": null,
   "metadata": {},
   "outputs": [],
   "source": []
  }
 ],
 "metadata": {
  "kernelspec": {
   "display_name": "Python 3",
   "language": "python",
   "name": "python3"
  },
  "language_info": {
   "codemirror_mode": {
    "name": "ipython",
    "version": 3
   },
   "file_extension": ".py",
   "mimetype": "text/x-python",
   "name": "python",
   "nbconvert_exporter": "python",
   "pygments_lexer": "ipython3",
   "version": "3.8.5"
  }
 },
 "nbformat": 4,
 "nbformat_minor": 4
}
